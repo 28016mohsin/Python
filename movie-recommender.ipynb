%reload_ext autoreload
%autoreload 2
from recommend import *

title2MVec_norm, title2movie = init()

feat2weight = {
    'year': 0.5,
    'runtime': 2.0,
    'rating': 1.5,
    'mpaa': 0.0,
    'votes': 0.0,
    '% votes female': 0.0,
    '% votes non-US': 0.0,
    'age bracket with most votes': 0.0,
    'alcohol/drugs/smoking': 0.0,
    'frightening/intense scenes': 0.0,
    'profanity': 0.0,
    'sex & nudity': 0.0,
    'violence & gore': 0.0,
    'genres': 0.1,
    'countries': 0.0,
    'languages': 0.0,
    'aspect ratio': 0.0,
    'director': 0.0,
    'cast': 0.0,
    'production companies': 0.0,
    'cinematographer': 0.0,
    'original music': 0.0,
    'producer': 0.0,
    'writer': 0.0,
    'keywords': 0.0,
}

get_recommendations("Fight Club", feat2weight, title2MVec_norm, title2movie, distance_function=manh_dist)
