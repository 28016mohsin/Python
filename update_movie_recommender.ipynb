{
  "nbformat": 4,
  "nbformat_minor": 0,
  "metadata": {
    "colab": {
      "provenance": []
    },
    "kernelspec": {
      "name": "python3",
      "display_name": "Python 3"
    },
    "language_info": {
      "name": "python"
    }
  },
  "cells": [
    {
      "cell_type": "code",
      "execution_count": null,
      "metadata": {
        "id": "mGJIJCkneHa1"
      },
      "outputs": [],
      "source": [
        "%reload_ext autoreload\n",
        "%autoreload 2\n",
        "from recommend import *\n",
        "\n",
        "title2MVec_norm, title2movie = init()\n",
        "\n",
        "feat2weight = {\n",
        "    'year': 0.5,\n",
        "    'runtime': 2.0,\n",
        "    'rating': 1.5,\n",
        "    'mpaa': 0.0,\n",
        "    'votes': 0.0,\n",
        "    '% votes female': 0.0,\n",
        "    '% votes non-US': 0.0,\n",
        "    'age bracket with most votes': 0.0,\n",
        "    'alcohol/drugs/smoking': 0.0,\n",
        "    'frightening/intense scenes': 0.0,\n",
        "    'profanity': 0.0,\n",
        "    'sex & nudity': 0.0,\n",
        "    'violence & gore': 0.0,\n",
        "    'genres': 0.1,\n",
        "    'countries': 0.0,\n",
        "    'languages': 0.0,\n",
        "    'aspect ratio': 0.0,\n",
        "    'director': 0.0,\n",
        "    'cast': 0.0,\n",
        "    'production companies': 0.0,\n",
        "    'cinematographer': 0.0,\n",
        "    'original music': 0.0,\n",
        "    'producer': 0.0,\n",
        "    'writer': 0.0,\n",
        "    'keywords': 0.0,\n",
        "}\n",
        "\n",
        "get_recommendations(\"Fight Club\", feat2weight, title2MVec_norm, title2movie, distance_function=manh_dist)\n"
      ]
    }
  ]
}